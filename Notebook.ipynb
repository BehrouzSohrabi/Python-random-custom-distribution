{
 "cells": [
  {
   "cell_type": "code",
   "execution_count": 1,
   "metadata": {},
   "outputs": [],
   "source": [
    "import random\n",
    "import seaborn as sns\n",
    "import matplotlib.pyplot as plt\n",
    "import numpy as np\n",
    "import pandas as pd\n",
    "import math"
   ]
  },
  {
   "cell_type": "code",
   "execution_count": 121,
   "metadata": {},
   "outputs": [
    {
     "data": {
      "image/png": "[encoded data removed]",
      "text/plain": [
       "<Figure size 504x252 with 1 Axes>"
      ]
     },
     "metadata": {
      "needs_background": "dark"
     },
     "output_type": "display_data"
    },
    {
     "name": "stdout",
     "output_type": "stream",
     "text": [
      "-1 2 0 0 1.0\n",
      "0 0 1 2 1.0\n",
      "1 2 2 8 5.0\n",
      "2 8 3 18 13.0\n",
      "3 18 4 32 25.0\n",
      "4 32 5 50 41.0\n",
      "5 50 6 72 61.0\n",
      "{-1: 1, 0: 1, 1: 5, 2: 13, 3: 25, 4: 41, 5: 61}\n",
      "[6, 5, 5, 6, 4, 6, 6, 5, 6, 5, 6, 2, 6, 6, 4, 6, 4, 5, 6, 5, 6, 6, 6, 6, 6, 6, 6, 5, 4, 5, 5, 6, 6, 3, 4, 4, 4, 6, 2, 5, 6, 3, 3, 5, 3, 6, 5, 5, 6, 6, 5, 1, 6, 6, 6, 3, 6, 0, 5, 2, 6, 6, 4, 5, 6, 5, 6, 6, 6, 4, 6, 5, 5, 3, 5, 2, 6, 4, 6, 4, 5, 5, 4, 3, 4, 4, 6, 5, 6, 6, 4, 6, 6, 5, 4, 6, 5, 6, 6, 3, 2, 3, 5, 5, 4, 6, 6, 6, 4, 5, 6, 6, 6, 4, 5, 5, 5, 3, 4, 6, 5, 6, 4, 5, 5, 6, 5, 4, 5, 4, 5, 3, 6, 5, 6, 6, 4, 6, 3, 5, 4, 3, 6, 6, 5, 6, 5]\n"
     ]
    },
    {
     "data": {
      "image/png": "[encoded data removed]",
      "text/plain": [
       "<Figure size 504x252 with 1 Axes>"
      ]
     },
     "metadata": {
      "needs_background": "light"
     },
     "output_type": "display_data"
    }
   ],
   "source": [
    "def random_naive_dist(min_value, max_value, step, formula = lambda x:x, round_to_step = True, seeds = 1000):\n",
    "    # set max for rounded output to have an extra bin for the last one\n",
    "    min_value = min_value - step if round_to_step else min_value\n",
    "    window_size = float(max_value) - float(min_value)\n",
    "    max_counts = {}\n",
    "    bin_counts = {}\n",
    "    rand_list = []\n",
    "    # plot dirstribution\n",
    "    xpts = np.linspace(min_value, max_value, round(window_size/step))\n",
    "    plt.plot(xpts, formula(xpts))\n",
    "    plt.tick_params(color='white',labelcolor='white')\n",
    "    plt.show()\n",
    "    # loop in bracket\n",
    "    for i in np.arange(min_value, max_value, step):\n",
    "        x1 = formula(i)\n",
    "        x2 = formula(i+step)\n",
    "        integral = (abs(x1)+abs(x2))*step/2\n",
    "        max_counts[i] = round(integral)\n",
    "        bin_counts[i] = 0\n",
    "        print(i, x1, i+step, x2, integral)\n",
    "    print(max_counts)\n",
    "\n",
    "    # loop in seeds\n",
    "    for i in range(seeds):\n",
    "        rand = 1 if round_to_step else random.random()\n",
    "        for i in np.arange(min_value, max_value, step):\n",
    "            new_rand = (i) + ((rand) * (step))\n",
    "            if bin_counts[i] < max_counts[i]:\n",
    "                rand_list.append(new_rand)\n",
    "                bin_counts[i] += 1\n",
    "                break\n",
    "    new_x = list(rand_list)  # make a copy\n",
    "    random.shuffle(new_x)\n",
    "    print(new_x)\n",
    "    return rand_list\n",
    "\n",
    "\n",
    "\n",
    "a = random_naive_dist(0, 6, 1, lambda x:2*x**2)\n",
    "\n",
    "plt.rcParams[\"figure.figsize\"] = [7.00, 3.50]\n",
    "plt.rcParams[\"figure.autolayout\"] = True\n",
    "df = pd.DataFrame(dict(col1=np.array(a)))\n",
    "ax = sns.countplot(x=\"col1\", data=df)\n",
    "for p in ax.patches:\n",
    "   ax.annotate('{:.2f}'.format(p.get_height()), (p.get_x()+0.25, p.get_height()+0.01))\n",
    "plt.show()"
   ]
  }
 ],
 "metadata": {
  "interpreter": {
   "hash": "2ac3d5d3a4336f34c662130573d1ea696fb4dfcbf6baf7c9925b84262e1f6ae2"
  },
  "kernelspec": {
   "display_name": "Python 3.9.10 ('base')",
   "language": "python",
   "name": "python3"
  },
  "language_info": {
   "codemirror_mode": {
    "name": "ipython",
    "version": 3
   },
   "file_extension": ".py",
   "mimetype": "text/x-python",
   "name": "python",
   "nbconvert_exporter": "python",
   "pygments_lexer": "ipython3",
   "version": "3.9.10"
  },
  "orig_nbformat": 4
 },
 "nbformat": 4,
 "nbformat_minor": 2
}
